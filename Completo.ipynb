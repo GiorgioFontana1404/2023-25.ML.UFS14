{
 "cells": [
  {
   "cell_type": "code",
   "execution_count": 7,
   "id": "6ca1a24f",
   "metadata": {},
   "outputs": [
    {
     "name": "stdout",
     "output_type": "stream",
     "text": [
      "WARNING! Your password will be stored unencrypted in /home/ec2-user/.docker/config.json.\n",
      "Configure a credential helper to remove this warning. See\n",
      "https://docs.docker.com/engine/reference/commandline/login/#credentials-store\n",
      "\n",
      "Login Succeeded\n"
     ]
    }
   ],
   "source": [
    "!aws ecr get-login-password --region us-east-1 | docker login --username AWS --password-stdin 763104351884.dkr.ecr.us-east-1.amazonaws.com   "
   ]
  },
  {
   "cell_type": "code",
   "execution_count": 8,
   "id": "374bf0ff",
   "metadata": {},
   "outputs": [
    {
     "name": "stdout",
     "output_type": "stream",
     "text": [
      "\u001b[1A\u001b[1B\u001b[0G\u001b[?25l[+] Building 0.0s (0/1)                                          docker:default\n",
      "\u001b[?25h\u001b[1A\u001b[0G\u001b[?25l[+] Building 0.2s (3/3)                                          docker:default\n",
      "\u001b[34m => [internal] load build definition from Dockerfile.train                 0.0s\n",
      "\u001b[0m\u001b[34m => => transferring dockerfile: 248B                                       0.0s\n",
      "\u001b[0m\u001b[34m => [internal] load metadata for 763104351884.dkr.ecr.us-east-1.amazonaws  0.1s\n",
      "\u001b[0m\u001b[34m => [auth] sharing credentials for 763104351884.dkr.ecr.us-east-1.amazona  0.0s\n",
      "\u001b[0m\u001b[?25h\u001b[1A\u001b[1A\u001b[1A\u001b[1A\u001b[1A\u001b[0G\u001b[?25l[+] Building 0.2s (9/9) FINISHED                                 docker:default\n",
      "\u001b[34m => [internal] load build definition from Dockerfile.train                 0.0s\n",
      "\u001b[0m\u001b[34m => => transferring dockerfile: 248B                                       0.0s\n",
      "\u001b[0m\u001b[34m => [internal] load metadata for 763104351884.dkr.ecr.us-east-1.amazonaws  0.1s\n",
      "\u001b[0m\u001b[34m => [auth] sharing credentials for 763104351884.dkr.ecr.us-east-1.amazona  0.0s\n",
      "\u001b[0m\u001b[34m => [internal] load .dockerignore                                          0.0s\n",
      "\u001b[0m\u001b[34m => => transferring context: 2B                                            0.0s\n",
      "\u001b[0m\u001b[34m => [1/3] FROM 763104351884.dkr.ecr.us-east-1.amazonaws.com/tensorflow-tr  0.0s\n",
      "\u001b[0m\u001b[34m => [internal] load build context                                          0.0s\n",
      "\u001b[0m\u001b[34m => => transferring context: 29B                                           0.0s\n",
      "\u001b[0m\u001b[34m => CACHED [2/3] RUN pip install pandas scikit-learn numpy joblib          0.0s\n",
      "\u001b[0m\u001b[34m => CACHED [3/3] ADD ./main.py /opt/ml/code/main.py                        0.0s\n",
      "\u001b[0m\u001b[34m => exporting to image                                                     0.0s\n",
      "\u001b[0m\u001b[34m => => exporting layers                                                    0.0s\n",
      "\u001b[0m\u001b[34m => => writing image sha256:4df6232325a41f89368a36861c8f3ccb52124633ddb89  0.0s\n",
      "\u001b[0m\u001b[34m => => naming to 715867985850.dkr.ecr.us-east-1.amazonaws.com/tensorflow-  0.0s\n",
      "\u001b[0m\u001b[?25h"
     ]
    }
   ],
   "source": [
    "!docker build -t 715867985850.dkr.ecr.us-east-1.amazonaws.com/tensorflow-training:2.12.0-cpu-py310 -f Dockerfile.train ."
   ]
  },
  {
   "cell_type": "code",
   "execution_count": 9,
   "id": "5a81d2dc",
   "metadata": {},
   "outputs": [
    {
     "name": "stdout",
     "output_type": "stream",
     "text": [
      "REPOSITORY                                                                  TAG                      IMAGE ID       CREATED         SIZE\n",
      "715867985850.dkr.ecr.us-east-1.amazonaws.com/tensorflow-training            2.12.0-cpu-py310         4df6232325a4   4 minutes ago   6.13GB\n",
      "715867985850.dkr.ecr.us-east-1.amazonaws.com/tensorflow-training            2.12.0-cpu-py310-pippo   4df6232325a4   4 minutes ago   6.13GB\n",
      "520713654638.dkr.ecr.us-east-1.amazonaws.com/sagemaker-tensorflow-serving   1.12.0-cpu               27aee10a9f6a   5 years ago     377MB\n"
     ]
    }
   ],
   "source": [
    "!docker images"
   ]
  },
  {
   "cell_type": "code",
   "execution_count": 10,
   "id": "d4a69c80",
   "metadata": {},
   "outputs": [
    {
     "name": "stdout",
     "output_type": "stream",
     "text": [
      "image_name: tensorflow-training ######################\n",
      "account: 638118468186 ######################\n",
      "region: us-east-1 ######################\n",
      "fullname: 638118468186.dkr.ecr.us-east-1.amazonaws.com/tensorflow-training:2.12.0-cpu-py310 ######################\n"
     ]
    },
    {
     "name": "stderr",
     "output_type": "stream",
     "text": [
      "\n",
      "An error occurred (RepositoryAlreadyExistsException) when calling the CreateRepository operation: The repository with name 'tensorflow-training' already exists in the registry with id '638118468186'\n"
     ]
    },
    {
     "ename": "CalledProcessError",
     "evalue": "Command 'b'# Specify an image name\\nimage_name=tensorflow-training\\necho \"image_name: ${image_name} ######################\"\\n\\naccount=$(aws sts get-caller-identity --query Account --output text)\\necho \"account: ${account} ######################\"\\n\\n# Get the region defined in the current configuration (default to us-west-2 if none defined)\\nregion=$(aws configure get region)\\necho \"region: ${region} ######################\"\\n\\nfullname=\"${account}.dkr.ecr.${region}.amazonaws.com/${image_name}:2.12.0-cpu-py310\"\\necho \"fullname: ${fullname} ######################\"\\naws ecr create-repository --repository-name \"${image_name}\"\\n'' returned non-zero exit status 255.",
     "output_type": "error",
     "traceback": [
      "\u001b[0;31m---------------------------------------------------------------------------\u001b[0m",
      "\u001b[0;31mCalledProcessError\u001b[0m                        Traceback (most recent call last)",
      "Cell \u001b[0;32mIn[10], line 1\u001b[0m\n\u001b[0;32m----> 1\u001b[0m \u001b[43mget_ipython\u001b[49m\u001b[43m(\u001b[49m\u001b[43m)\u001b[49m\u001b[38;5;241;43m.\u001b[39;49m\u001b[43mrun_cell_magic\u001b[49m\u001b[43m(\u001b[49m\u001b[38;5;124;43m'\u001b[39;49m\u001b[38;5;124;43msh\u001b[39;49m\u001b[38;5;124;43m'\u001b[39;49m\u001b[43m,\u001b[49m\u001b[43m \u001b[49m\u001b[38;5;124;43m'\u001b[39;49m\u001b[38;5;124;43m'\u001b[39;49m\u001b[43m,\u001b[49m\u001b[43m \u001b[49m\u001b[38;5;124;43m'\u001b[39;49m\u001b[38;5;124;43m# Specify an image name\u001b[39;49m\u001b[38;5;130;43;01m\\n\u001b[39;49;00m\u001b[38;5;124;43mimage_name=tensorflow-training\u001b[39;49m\u001b[38;5;130;43;01m\\n\u001b[39;49;00m\u001b[38;5;124;43mecho \u001b[39;49m\u001b[38;5;124;43m\"\u001b[39;49m\u001b[38;5;124;43mimage_name: $\u001b[39;49m\u001b[38;5;132;43;01m{image_name}\u001b[39;49;00m\u001b[38;5;124;43m ######################\u001b[39;49m\u001b[38;5;124;43m\"\u001b[39;49m\u001b[38;5;130;43;01m\\n\u001b[39;49;00m\u001b[38;5;130;43;01m\\n\u001b[39;49;00m\u001b[38;5;124;43maccount=$(aws sts get-caller-identity --query Account --output text)\u001b[39;49m\u001b[38;5;130;43;01m\\n\u001b[39;49;00m\u001b[38;5;124;43mecho \u001b[39;49m\u001b[38;5;124;43m\"\u001b[39;49m\u001b[38;5;124;43maccount: $\u001b[39;49m\u001b[38;5;132;43;01m{account}\u001b[39;49;00m\u001b[38;5;124;43m ######################\u001b[39;49m\u001b[38;5;124;43m\"\u001b[39;49m\u001b[38;5;130;43;01m\\n\u001b[39;49;00m\u001b[38;5;130;43;01m\\n\u001b[39;49;00m\u001b[38;5;124;43m# Get the region defined in the current configuration (default to us-west-2 if none defined)\u001b[39;49m\u001b[38;5;130;43;01m\\n\u001b[39;49;00m\u001b[38;5;124;43mregion=$(aws configure get region)\u001b[39;49m\u001b[38;5;130;43;01m\\n\u001b[39;49;00m\u001b[38;5;124;43mecho \u001b[39;49m\u001b[38;5;124;43m\"\u001b[39;49m\u001b[38;5;124;43mregion: $\u001b[39;49m\u001b[38;5;132;43;01m{region}\u001b[39;49;00m\u001b[38;5;124;43m ######################\u001b[39;49m\u001b[38;5;124;43m\"\u001b[39;49m\u001b[38;5;130;43;01m\\n\u001b[39;49;00m\u001b[38;5;130;43;01m\\n\u001b[39;49;00m\u001b[38;5;124;43mfullname=\u001b[39;49m\u001b[38;5;124;43m\"\u001b[39;49m\u001b[38;5;124;43m$\u001b[39;49m\u001b[38;5;132;43;01m{account}\u001b[39;49;00m\u001b[38;5;124;43m.dkr.ecr.$\u001b[39;49m\u001b[38;5;132;43;01m{region}\u001b[39;49;00m\u001b[38;5;124;43m.amazonaws.com/$\u001b[39;49m\u001b[38;5;132;43;01m{image_name}\u001b[39;49;00m\u001b[38;5;124;43m:2.12.0-cpu-py310\u001b[39;49m\u001b[38;5;124;43m\"\u001b[39;49m\u001b[38;5;130;43;01m\\n\u001b[39;49;00m\u001b[38;5;124;43mecho \u001b[39;49m\u001b[38;5;124;43m\"\u001b[39;49m\u001b[38;5;124;43mfullname: $\u001b[39;49m\u001b[38;5;132;43;01m{fullname}\u001b[39;49;00m\u001b[38;5;124;43m ######################\u001b[39;49m\u001b[38;5;124;43m\"\u001b[39;49m\u001b[38;5;130;43;01m\\n\u001b[39;49;00m\u001b[38;5;124;43maws ecr create-repository --repository-name \u001b[39;49m\u001b[38;5;124;43m\"\u001b[39;49m\u001b[38;5;124;43m$\u001b[39;49m\u001b[38;5;132;43;01m{image_name}\u001b[39;49;00m\u001b[38;5;124;43m\"\u001b[39;49m\u001b[38;5;130;43;01m\\n\u001b[39;49;00m\u001b[38;5;124;43m'\u001b[39;49m\u001b[43m)\u001b[49m\n",
      "File \u001b[0;32m~/anaconda3/envs/pytorch_p310/lib/python3.10/site-packages/IPython/core/interactiveshell.py:2541\u001b[0m, in \u001b[0;36mInteractiveShell.run_cell_magic\u001b[0;34m(self, magic_name, line, cell)\u001b[0m\n\u001b[1;32m   2539\u001b[0m \u001b[38;5;28;01mwith\u001b[39;00m \u001b[38;5;28mself\u001b[39m\u001b[38;5;241m.\u001b[39mbuiltin_trap:\n\u001b[1;32m   2540\u001b[0m     args \u001b[38;5;241m=\u001b[39m (magic_arg_s, cell)\n\u001b[0;32m-> 2541\u001b[0m     result \u001b[38;5;241m=\u001b[39m \u001b[43mfn\u001b[49m\u001b[43m(\u001b[49m\u001b[38;5;241;43m*\u001b[39;49m\u001b[43margs\u001b[49m\u001b[43m,\u001b[49m\u001b[43m \u001b[49m\u001b[38;5;241;43m*\u001b[39;49m\u001b[38;5;241;43m*\u001b[39;49m\u001b[43mkwargs\u001b[49m\u001b[43m)\u001b[49m\n\u001b[1;32m   2543\u001b[0m \u001b[38;5;66;03m# The code below prevents the output from being displayed\u001b[39;00m\n\u001b[1;32m   2544\u001b[0m \u001b[38;5;66;03m# when using magics with decorator @output_can_be_silenced\u001b[39;00m\n\u001b[1;32m   2545\u001b[0m \u001b[38;5;66;03m# when the last Python token in the expression is a ';'.\u001b[39;00m\n\u001b[1;32m   2546\u001b[0m \u001b[38;5;28;01mif\u001b[39;00m \u001b[38;5;28mgetattr\u001b[39m(fn, magic\u001b[38;5;241m.\u001b[39mMAGIC_OUTPUT_CAN_BE_SILENCED, \u001b[38;5;28;01mFalse\u001b[39;00m):\n",
      "File \u001b[0;32m~/anaconda3/envs/pytorch_p310/lib/python3.10/site-packages/IPython/core/magics/script.py:155\u001b[0m, in \u001b[0;36mScriptMagics._make_script_magic.<locals>.named_script_magic\u001b[0;34m(line, cell)\u001b[0m\n\u001b[1;32m    153\u001b[0m \u001b[38;5;28;01melse\u001b[39;00m:\n\u001b[1;32m    154\u001b[0m     line \u001b[38;5;241m=\u001b[39m script\n\u001b[0;32m--> 155\u001b[0m \u001b[38;5;28;01mreturn\u001b[39;00m \u001b[38;5;28;43mself\u001b[39;49m\u001b[38;5;241;43m.\u001b[39;49m\u001b[43mshebang\u001b[49m\u001b[43m(\u001b[49m\u001b[43mline\u001b[49m\u001b[43m,\u001b[49m\u001b[43m \u001b[49m\u001b[43mcell\u001b[49m\u001b[43m)\u001b[49m\n",
      "File \u001b[0;32m~/anaconda3/envs/pytorch_p310/lib/python3.10/site-packages/IPython/core/magics/script.py:315\u001b[0m, in \u001b[0;36mScriptMagics.shebang\u001b[0;34m(self, line, cell)\u001b[0m\n\u001b[1;32m    310\u001b[0m \u001b[38;5;28;01mif\u001b[39;00m args\u001b[38;5;241m.\u001b[39mraise_error \u001b[38;5;129;01mand\u001b[39;00m p\u001b[38;5;241m.\u001b[39mreturncode \u001b[38;5;241m!=\u001b[39m \u001b[38;5;241m0\u001b[39m:\n\u001b[1;32m    311\u001b[0m     \u001b[38;5;66;03m# If we get here and p.returncode is still None, we must have\u001b[39;00m\n\u001b[1;32m    312\u001b[0m     \u001b[38;5;66;03m# killed it but not yet seen its return code. We don't wait for it,\u001b[39;00m\n\u001b[1;32m    313\u001b[0m     \u001b[38;5;66;03m# in case it's stuck in uninterruptible sleep. -9 = SIGKILL\u001b[39;00m\n\u001b[1;32m    314\u001b[0m     rc \u001b[38;5;241m=\u001b[39m p\u001b[38;5;241m.\u001b[39mreturncode \u001b[38;5;129;01mor\u001b[39;00m \u001b[38;5;241m-\u001b[39m\u001b[38;5;241m9\u001b[39m\n\u001b[0;32m--> 315\u001b[0m     \u001b[38;5;28;01mraise\u001b[39;00m CalledProcessError(rc, cell)\n",
      "\u001b[0;31mCalledProcessError\u001b[0m: Command 'b'# Specify an image name\\nimage_name=tensorflow-training\\necho \"image_name: ${image_name} ######################\"\\n\\naccount=$(aws sts get-caller-identity --query Account --output text)\\necho \"account: ${account} ######################\"\\n\\n# Get the region defined in the current configuration (default to us-west-2 if none defined)\\nregion=$(aws configure get region)\\necho \"region: ${region} ######################\"\\n\\nfullname=\"${account}.dkr.ecr.${region}.amazonaws.com/${image_name}:2.12.0-cpu-py310\"\\necho \"fullname: ${fullname} ######################\"\\naws ecr create-repository --repository-name \"${image_name}\"\\n'' returned non-zero exit status 255."
     ]
    }
   ],
   "source": [
    "%%sh\n",
    "# Specify an image name\n",
    "image_name=tensorflow-training\n",
    "echo \"image_name: ${image_name} ######################\"\n",
    "\n",
    "account=$(aws sts get-caller-identity --query Account --output text)\n",
    "echo \"account: ${account} ######################\"\n",
    "\n",
    "# Get the region defined in the current configuration (default to us-west-2 if none defined)\n",
    "region=$(aws configure get region)\n",
    "echo \"region: ${region} ######################\"\n",
    "\n",
    "fullname=\"${account}.dkr.ecr.${region}.amazonaws.com/${image_name}:2.12.0-cpu-py310\"\n",
    "echo \"fullname: ${fullname} ######################\"\n",
    "aws ecr create-repository --repository-name \"${image_name}\""
   ]
  },
  {
   "cell_type": "code",
   "execution_count": 11,
   "id": "c6f660e3",
   "metadata": {},
   "outputs": [
    {
     "name": "stdout",
     "output_type": "stream",
     "text": [
      "The push refers to repository [715867985850.dkr.ecr.us-east-1.amazonaws.com/tensorflow-training]\n",
      "\n",
      "\u001b[1Bcbb5be75: Preparing \n",
      "\u001b[1B0077decb: Preparing \n",
      "\u001b[1B22878ecf: Preparing \n",
      "\u001b[1Bdb4f6696: Preparing \n",
      "\u001b[1Bf529ae49: Preparing \n",
      "\u001b[1B75f13e59: Preparing \n",
      "\u001b[1B0c6c24f9: Preparing \n",
      "\u001b[1Ba1e64371: Preparing \n",
      "\u001b[1B29631b13: Preparing \n",
      "\u001b[1B3f03efd0: Preparing \n",
      "\u001b[1B9b75d5ee: Preparing \n",
      "\u001b[1B370de786: Preparing \n",
      "\u001b[1Ba16f1a7a: Preparing \n",
      "\u001b[1Bfc8740d1: Preparing \n",
      "\u001b[1B292691fc: Preparing \n",
      "\u001b[1B6672bf9d: Preparing \n",
      "\u001b[1B607be3da: Preparing \n",
      "\u001b[1Bafc9b360: Preparing \n",
      "\u001b[1Bf934e4df: Preparing \n",
      "\u001b[2Bf934e4df: Waiting g \n",
      "\u001b[1Ba0538fa4: Preparing \n",
      "\u001b[1B6d109c54: Preparing \n",
      "\u001b[1Bf0a068df: Preparing \n",
      "\u001b[1B443b7673: Preparing \n",
      "\u001b[1B37a36861: Preparing \n",
      "\u001b[1Becb4bd81: Preparing \n",
      "\u001b[2Becb4bd81: Waiting g \n",
      "\u001b[1B07d5d0ab: Preparing \n",
      "\u001b[1Be6c8e003: Preparing \n",
      "\u001b[1Bab822c1c: Preparing \n",
      "\u001b[1B3609315f: Preparing \n",
      "\u001b[1Bno basic auth credentials\n"
     ]
    }
   ],
   "source": [
    "!docker push 715867985850.dkr.ecr.us-east-1.amazonaws.com/tensorflow-training:2.12.0-cpu-py310-pippo"
   ]
  },
  {
   "cell_type": "code",
   "execution_count": null,
   "id": "300107d7",
   "metadata": {},
   "outputs": [],
   "source": [
    "from sagemaker import get_execution_role\n",
    "from sagemaker.estimator import Estimator\n",
    "import os\n",
    "\n",
    "role=get_execution_role()\n",
    "\n",
    "hyperparameters={'epochs': 1}\n",
    "\n",
    "estimator=Estimator(\n",
    "    image_uri='715867985850.dkr.ecr.us-east-1.amazonaws.com/tensorflow-training:2.12.0-cpu-py310-pippo',\n",
    "    role=role,\n",
    "    instance_count=1,\n",
    "    instance_type='ml.p2.xlarge',\n",
    "    hyperparameters=hyperparameters,\n",
    "    output_path='s3://mybucketuf14/data/output/'\n",
    ")\n",
    "\n",
    "print('##### ESTIMATOR FIT STARTED')\n",
    "estimator.fit('s3://mybucketuf14/data/input/house_price_regression_dataset.csv')\n",
    "print('##### ESTIMATOR FIT COMPLETED')"
   ]
  },
  {
   "cell_type": "code",
   "execution_count": null,
   "id": "81519b4e",
   "metadata": {},
   "outputs": [],
   "source": []
  }
 ],
 "metadata": {
  "kernelspec": {
   "display_name": "conda_pytorch_p310",
   "language": "python",
   "name": "conda_pytorch_p310"
  },
  "language_info": {
   "codemirror_mode": {
    "name": "ipython",
    "version": 3
   },
   "file_extension": ".py",
   "mimetype": "text/x-python",
   "name": "python",
   "nbconvert_exporter": "python",
   "pygments_lexer": "ipython3",
   "version": "3.10.14"
  }
 },
 "nbformat": 4,
 "nbformat_minor": 5
}
